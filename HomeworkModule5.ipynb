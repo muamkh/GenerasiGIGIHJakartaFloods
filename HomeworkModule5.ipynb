{
  "nbformat": 4,
  "nbformat_minor": 0,
  "metadata": {
    "colab": {
      "name": "HomeworkModule5.ipynb",
      "provenance": [],
      "collapsed_sections": []
    },
    "kernelspec": {
      "name": "python3",
      "display_name": "Python 3"
    },
    "language_info": {
      "name": "python"
    }
  },
  "cells": [
    {
      "cell_type": "code",
      "metadata": {
        "id": "nkY_yjBzZE1R"
      },
      "source": [
        "import glob\n",
        "import pandas as pd\n",
        "from datetime import datetime\n",
        "import math\n",
        "import os\n",
        "import time\n",
        "import numpy as np\n",
        "import re"
      ],
      "execution_count": null,
      "outputs": []
    },
    {
      "cell_type": "code",
      "metadata": {
        "id": "26tamatBZpmX"
      },
      "source": [
        "all_data = glob.glob('/content/drive/MyDrive/GenGigih/JakartaFloods/data-kejadian-bencana-banjir-di-provinsi-dki-jakarta-tahun*.csv')"
      ],
      "execution_count": null,
      "outputs": []
    },
    {
      "cell_type": "code",
      "metadata": {
        "colab": {
          "base_uri": "https://localhost:8080/"
        },
        "id": "rHo5mOrRZ5rU",
        "outputId": "7fbf768e-7e85-4418-860a-a0ba90fd62fb"
      },
      "source": [
        "all_data"
      ],
      "execution_count": null,
      "outputs": [
        {
          "output_type": "execute_result",
          "data": {
            "text/plain": [
              "['/content/drive/MyDrive/GenGigih/JakartaFloods/data-kejadian-bencana-banjir-di-provinsi-dki-jakarta-tahun-2020-bulan-januari.csv',\n",
              " '/content/drive/MyDrive/GenGigih/JakartaFloods/data-kejadian-bencana-banjir-di-provinsi-dki-jakarta-tahun-2019-bulan-januari.csv',\n",
              " '/content/drive/MyDrive/GenGigih/JakartaFloods/data-kejadian-bencana-banjir-di-provinsi-dki-jakarta-tahun-2017-bulan-desember.csv',\n",
              " '/content/drive/MyDrive/GenGigih/JakartaFloods/data-kejadian-bencana-banjir-di-provinsi-dki-jakarta-tahun-2017-bulan-november.csv',\n",
              " '/content/drive/MyDrive/GenGigih/JakartaFloods/data-kejadian-bencana-banjir-di-provinsi-dki-jakarta-tahun-2017-bulan-oktober.csv',\n",
              " '/content/drive/MyDrive/GenGigih/JakartaFloods/data-kejadian-bencana-banjir-di-provinsi-dki-jakarta-tahun-2017-bulan-september.csv',\n",
              " '/content/drive/MyDrive/GenGigih/JakartaFloods/data-kejadian-bencana-banjir-di-provinsi-dki-jakarta-tahun-2017-bulan-agustus.csv',\n",
              " '/content/drive/MyDrive/GenGigih/JakartaFloods/data-kejadian-bencana-banjir-di-provinsi-dki-jakarta-tahun-2017-bulan-juli.csv',\n",
              " '/content/drive/MyDrive/GenGigih/JakartaFloods/data-kejadian-bencana-banjir-di-provinsi-dki-jakarta-tahun-2017-bulan-juni.csv',\n",
              " '/content/drive/MyDrive/GenGigih/JakartaFloods/data-kejadian-bencana-banjir-di-provinsi-dki-jakarta-tahun-2017-bulan-mei.csv',\n",
              " '/content/drive/MyDrive/GenGigih/JakartaFloods/data-kejadian-bencana-banjir-di-provinsi-dki-jakarta-tahun-2017-bulan-april.csv',\n",
              " '/content/drive/MyDrive/GenGigih/JakartaFloods/data-kejadian-bencana-banjir-di-provinsi-dki-jakarta-tahun-2017-bulan-maret.csv',\n",
              " '/content/drive/MyDrive/GenGigih/JakartaFloods/data-kejadian-bencana-banjir-di-provinsi-dki-jakarta-tahun-2017-bulan-januari.csv',\n",
              " '/content/drive/MyDrive/GenGigih/JakartaFloods/data-kejadian-bencana-banjir-di-provinsi-dki-jakarta-tahun-2018-bulan-januari.csv',\n",
              " '/content/drive/MyDrive/GenGigih/JakartaFloods/data-kejadian-bencana-banjir-di-provinsi-dki-jakarta-tahun-2018-bulan-februari.csv',\n",
              " '/content/drive/MyDrive/GenGigih/JakartaFloods/data-kejadian-bencana-banjir-di-provinsi-dki-jakarta-tahun-2018-bulan-maret.csv',\n",
              " '/content/drive/MyDrive/GenGigih/JakartaFloods/data-kejadian-bencana-banjir-di-provinsi-dki-jakarta-tahun-2018-bulan-april.csv',\n",
              " '/content/drive/MyDrive/GenGigih/JakartaFloods/data-kejadian-bencana-banjir-di-provinsi-dki-jakarta-tahun-2018-bulan-mei.csv',\n",
              " '/content/drive/MyDrive/GenGigih/JakartaFloods/data-kejadian-bencana-banjir-di-provinsi-dki-jakarta-tahun-2018-bulan-juni.csv',\n",
              " '/content/drive/MyDrive/GenGigih/JakartaFloods/data-kejadian-bencana-banjir-di-provinsi-dki-jakarta-tahun-2018-bulan-oktober.csv',\n",
              " '/content/drive/MyDrive/GenGigih/JakartaFloods/data-kejadian-bencana-banjir-di-provinsi-dki-jakarta-tahun-2018-bulan-november.csv',\n",
              " '/content/drive/MyDrive/GenGigih/JakartaFloods/data-kejadian-bencana-banjir-di-provinsi-dki-jakarta-tahun-2018-bulan-desember.csv',\n",
              " '/content/drive/MyDrive/GenGigih/JakartaFloods/data-kejadian-bencana-banjir-di-provinsi-dki-jakarta-tahun-2019-bulan-februari.csv',\n",
              " '/content/drive/MyDrive/GenGigih/JakartaFloods/data-kejadian-bencana-banjir-di-provinsi-dki-jakarta-tahun-2019-bulan-maret.csv',\n",
              " '/content/drive/MyDrive/GenGigih/JakartaFloods/data-kejadian-bencana-banjir-di-provinsi-dki-jakarta-tahun-2019-bulan-april.csv',\n",
              " '/content/drive/MyDrive/GenGigih/JakartaFloods/data-kejadian-bencana-banjir-di-provinsi-dki-jakarta-tahun-2019-bulan-mei.csv',\n",
              " '/content/drive/MyDrive/GenGigih/JakartaFloods/data-kejadian-bencana-banjir-di-provinsi-dki-jakarta-tahun-2019-bulan-oktober.csv',\n",
              " '/content/drive/MyDrive/GenGigih/JakartaFloods/data-kejadian-bencana-banjir-di-provinsi-dki-jakarta-tahun-2019-bulan-desember.csv',\n",
              " '/content/drive/MyDrive/GenGigih/JakartaFloods/data-kejadian-bencana-banjir-di-provinsi-dki-jakarta-tahun-2020-bulan-februari.csv',\n",
              " '/content/drive/MyDrive/GenGigih/JakartaFloods/data-kejadian-bencana-banjir-di-provinsi-dki-jakarta-tahun-2020-bulan-maret.csv',\n",
              " '/content/drive/MyDrive/GenGigih/JakartaFloods/data-kejadian-bencana-banjir-di-provinsi-dki-jakarta-tahun-2020-bulan-april.csv',\n",
              " '/content/drive/MyDrive/GenGigih/JakartaFloods/data-kejadian-bencana-banjir-di-provinsi-dki-jakarta-tahun-2020-bulan-mei.csv',\n",
              " '/content/drive/MyDrive/GenGigih/JakartaFloods/data-kejadian-bencana-banjir-di-provinsi-dki-jakarta-tahun-2020-bulan-juni.csv',\n",
              " '/content/drive/MyDrive/GenGigih/JakartaFloods/data-kejadian-bencana-banjir-di-provinsi-dki-jakarta-tahun-2020-bulan-juli.csv',\n",
              " '/content/drive/MyDrive/GenGigih/JakartaFloods/data-kejadian-bencana-banjir-di-provinsi-dki-jakarta-tahun-2020-bulan-agustus.csv',\n",
              " '/content/drive/MyDrive/GenGigih/JakartaFloods/data-kejadian-bencana-banjir-di-provinsi-dki-jakarta-tahun-2020-bulan-september.csv',\n",
              " '/content/drive/MyDrive/GenGigih/JakartaFloods/data-kejadian-bencana-banjir-di-provinsi-dki-jakarta-tahun-2020-bulan-oktober.csv',\n",
              " '/content/drive/MyDrive/GenGigih/JakartaFloods/data-kejadian-bencana-banjir-di-provinsi-dki-jakarta-tahun-2020-bulan-november.csv',\n",
              " '/content/drive/MyDrive/GenGigih/JakartaFloods/data-kejadian-bencana-banjir-di-provinsi-dki-jakarta-tahun-2020-bulan-desember.csv',\n",
              " '/content/drive/MyDrive/GenGigih/JakartaFloods/data-kejadian-bencana-banjir-di-provinsi-dki-jakarta-tahun-2017-bulan-februari.csv']"
            ]
          },
          "metadata": {},
          "execution_count": 3
        }
      ]
    },
    {
      "cell_type": "code",
      "metadata": {
        "id": "KfU1dY5xZ7fs"
      },
      "source": [
        "data_name=[]\n",
        "data=pd.DataFrame()\n",
        "for i,x in enumerate(all_data):\n",
        "  data_read=pd.DataFrame()\n",
        "  data_name.append(x[105:-4])\n",
        "  try:\n",
        "    data_read = pd.read_csv(x)\n",
        "  except:\n",
        "    print(data_name[i], \" gagal di read\")\n",
        "    continue\n",
        "  if data_read['tanggal_kejadian'].dtype =='object':\n",
        "    data_read['bulan'] = data_name[i][11:]\n",
        "    data_read['tahun'] = data_name[i][:4]\n",
        "  else:\n",
        "    print(data_name[i-1][11:], data_name[i][:4], 'no')\n",
        "  data = data.append(data_read, ignore_index = True)"
      ],
      "execution_count": null,
      "outputs": []
    },
    {
      "cell_type": "code",
      "metadata": {
        "colab": {
          "base_uri": "https://localhost:8080/"
        },
        "id": "U6pl9RN0jZ9S",
        "outputId": "dbfbf1a9-13e9-4bb5-d9e1-d4f8d6c28a3f"
      },
      "source": [
        "data.dtypes"
      ],
      "execution_count": null,
      "outputs": [
        {
          "output_type": "execute_result",
          "data": {
            "text/plain": [
              "kota_administrasi              object\n",
              "kecamatan                      object\n",
              "kelurahan                      object\n",
              "rw                             object\n",
              "jumlah_terdampak_rw           float64\n",
              "jumlah_terdampak_rt           float64\n",
              "jumlah_terdampak_kk            object\n",
              "jumlah_terdampak_jiwa         float64\n",
              "ketinggian_air                 object\n",
              "tanggal_kejadian               object\n",
              "lama_genangan                 float64\n",
              "jumlah_meninggal              float64\n",
              "jumlah_hilang                 float64\n",
              "jumlah_luka_berat             float64\n",
              "jumlah_luka_ringan            float64\n",
              "jumlah_pengungsi_tertinggi    float64\n",
              "jumlah_tempat_pengungsian     float64\n",
              "nilai_kerugian                float64\n",
              "bulan                          object\n",
              "tahun                          object\n",
              "dtype: object"
            ]
          },
          "metadata": {
            "tags": []
          },
          "execution_count": 624
        }
      ]
    },
    {
      "cell_type": "code",
      "metadata": {
        "id": "fXl76X5XZ7h7"
      },
      "source": [
        "data_name.sort()\n",
        "data_name"
      ],
      "execution_count": null,
      "outputs": []
    },
    {
      "cell_type": "code",
      "metadata": {
        "colab": {
          "base_uri": "https://localhost:8080/",
          "height": 823
        },
        "id": "baPJTBHRbJHi",
        "outputId": "8fc2eca7-ea58-4efb-99b9-e63db8cbc1de"
      },
      "source": [
        "data"
      ],
      "execution_count": null,
      "outputs": [
        {
          "output_type": "execute_result",
          "data": {
            "text/html": [
              "<div>\n",
              "<style scoped>\n",
              "    .dataframe tbody tr th:only-of-type {\n",
              "        vertical-align: middle;\n",
              "    }\n",
              "\n",
              "    .dataframe tbody tr th {\n",
              "        vertical-align: top;\n",
              "    }\n",
              "\n",
              "    .dataframe thead th {\n",
              "        text-align: right;\n",
              "    }\n",
              "</style>\n",
              "<table border=\"1\" class=\"dataframe\">\n",
              "  <thead>\n",
              "    <tr style=\"text-align: right;\">\n",
              "      <th></th>\n",
              "      <th>kota_administrasi</th>\n",
              "      <th>kecamatan</th>\n",
              "      <th>kelurahan</th>\n",
              "      <th>rw</th>\n",
              "      <th>jumlah_terdampak_rw</th>\n",
              "      <th>jumlah_terdampak_rt</th>\n",
              "      <th>jumlah_terdampak_kk</th>\n",
              "      <th>jumlah_terdampak_jiwa</th>\n",
              "      <th>ketinggian_air</th>\n",
              "      <th>tanggal_kejadian</th>\n",
              "      <th>lama_genangan</th>\n",
              "      <th>jumlah_meninggal</th>\n",
              "      <th>jumlah_hilang</th>\n",
              "      <th>jumlah_luka_berat</th>\n",
              "      <th>jumlah_luka_ringan</th>\n",
              "      <th>jumlah_pengungsi_tertinggi</th>\n",
              "      <th>jumlah_tempat_pengungsian</th>\n",
              "      <th>nilai_kerugian</th>\n",
              "      <th>bulan</th>\n",
              "      <th>tahun</th>\n",
              "    </tr>\n",
              "  </thead>\n",
              "  <tbody>\n",
              "    <tr>\n",
              "      <th>0</th>\n",
              "      <td>Jakarta Pusat</td>\n",
              "      <td>JOHAR BARU</td>\n",
              "      <td>JOHAR BARU</td>\n",
              "      <td>RW 01, 02, 06, 08</td>\n",
              "      <td>4.0</td>\n",
              "      <td>4.0</td>\n",
              "      <td>35</td>\n",
              "      <td>140.0</td>\n",
              "      <td>10 s/d 30 cm</td>\n",
              "      <td>tgl. 01 Januari</td>\n",
              "      <td>0.0</td>\n",
              "      <td>0.0</td>\n",
              "      <td>0.0</td>\n",
              "      <td>0.0</td>\n",
              "      <td>140.0</td>\n",
              "      <td>1.0</td>\n",
              "      <td>0.0</td>\n",
              "      <td>0.0</td>\n",
              "      <td>januari</td>\n",
              "      <td>2020</td>\n",
              "    </tr>\n",
              "    <tr>\n",
              "      <th>1</th>\n",
              "      <td>Jakarta Pusat</td>\n",
              "      <td>KEMAYORAN</td>\n",
              "      <td>GUNUNG SAHARI SELATAN</td>\n",
              "      <td>RW 01, 02, 07, 08</td>\n",
              "      <td>4.0</td>\n",
              "      <td>4.0</td>\n",
              "      <td>0</td>\n",
              "      <td>0.0</td>\n",
              "      <td>10 s/d 70 cm</td>\n",
              "      <td>tgl. 01 Januari</td>\n",
              "      <td>0.0</td>\n",
              "      <td>0.0</td>\n",
              "      <td>0.0</td>\n",
              "      <td>0.0</td>\n",
              "      <td>0.0</td>\n",
              "      <td>0.0</td>\n",
              "      <td>0.0</td>\n",
              "      <td>0.0</td>\n",
              "      <td>januari</td>\n",
              "      <td>2020</td>\n",
              "    </tr>\n",
              "    <tr>\n",
              "      <th>2</th>\n",
              "      <td>Jakarta Pusat</td>\n",
              "      <td>KEMAYORAN</td>\n",
              "      <td>SERDANG</td>\n",
              "      <td>RW 01, 02, 06, 07</td>\n",
              "      <td>4.0</td>\n",
              "      <td>4.0</td>\n",
              "      <td>0</td>\n",
              "      <td>0.0</td>\n",
              "      <td>10 s/d 30 cm</td>\n",
              "      <td>tgl. 01 Januari</td>\n",
              "      <td>1.0</td>\n",
              "      <td>0.0</td>\n",
              "      <td>0.0</td>\n",
              "      <td>0.0</td>\n",
              "      <td>0.0</td>\n",
              "      <td>0.0</td>\n",
              "      <td>0.0</td>\n",
              "      <td>0.0</td>\n",
              "      <td>januari</td>\n",
              "      <td>2020</td>\n",
              "    </tr>\n",
              "    <tr>\n",
              "      <th>3</th>\n",
              "      <td>Jakarta Pusat</td>\n",
              "      <td>SAWAH BESAR</td>\n",
              "      <td>PASAR BARU</td>\n",
              "      <td>RW 02, 03, 04, 05, 06, 07, 08</td>\n",
              "      <td>7.0</td>\n",
              "      <td>7.0</td>\n",
              "      <td>155</td>\n",
              "      <td>625.0</td>\n",
              "      <td>10 s/d 70 cm</td>\n",
              "      <td>tgl. 01 Januari</td>\n",
              "      <td>0.0</td>\n",
              "      <td>0.0</td>\n",
              "      <td>0.0</td>\n",
              "      <td>0.0</td>\n",
              "      <td>625.0</td>\n",
              "      <td>5.0</td>\n",
              "      <td>0.0</td>\n",
              "      <td>0.0</td>\n",
              "      <td>januari</td>\n",
              "      <td>2020</td>\n",
              "    </tr>\n",
              "    <tr>\n",
              "      <th>4</th>\n",
              "      <td>Jakarta Pusat</td>\n",
              "      <td>TANAH ABANG</td>\n",
              "      <td>BENDUNGAN HILIR</td>\n",
              "      <td>RW 07, 09</td>\n",
              "      <td>2.0</td>\n",
              "      <td>2.0</td>\n",
              "      <td>52</td>\n",
              "      <td>195.0</td>\n",
              "      <td>31 s/d 70 cm</td>\n",
              "      <td>tgl. 01 Januari</td>\n",
              "      <td>0.0</td>\n",
              "      <td>0.0</td>\n",
              "      <td>0.0</td>\n",
              "      <td>0.0</td>\n",
              "      <td>195.0</td>\n",
              "      <td>6.0</td>\n",
              "      <td>0.0</td>\n",
              "      <td>0.0</td>\n",
              "      <td>januari</td>\n",
              "      <td>2020</td>\n",
              "    </tr>\n",
              "    <tr>\n",
              "      <th>...</th>\n",
              "      <td>...</td>\n",
              "      <td>...</td>\n",
              "      <td>...</td>\n",
              "      <td>...</td>\n",
              "      <td>...</td>\n",
              "      <td>...</td>\n",
              "      <td>...</td>\n",
              "      <td>...</td>\n",
              "      <td>...</td>\n",
              "      <td>...</td>\n",
              "      <td>...</td>\n",
              "      <td>...</td>\n",
              "      <td>...</td>\n",
              "      <td>...</td>\n",
              "      <td>...</td>\n",
              "      <td>...</td>\n",
              "      <td>...</td>\n",
              "      <td>...</td>\n",
              "      <td>...</td>\n",
              "      <td>...</td>\n",
              "    </tr>\n",
              "    <tr>\n",
              "      <th>1617</th>\n",
              "      <td>Jakarta Utara</td>\n",
              "      <td>CILINCING</td>\n",
              "      <td>SUKAPURA</td>\n",
              "      <td>NaN</td>\n",
              "      <td>1.0</td>\n",
              "      <td>0.0</td>\n",
              "      <td>0</td>\n",
              "      <td>0.0</td>\n",
              "      <td>40 - 50 cm</td>\n",
              "      <td>21\\n(1 Hari)</td>\n",
              "      <td>0.0</td>\n",
              "      <td>0.0</td>\n",
              "      <td>0.0</td>\n",
              "      <td>0.0</td>\n",
              "      <td>20.0</td>\n",
              "      <td>0.0</td>\n",
              "      <td>0.0</td>\n",
              "      <td>0.0</td>\n",
              "      <td>februari</td>\n",
              "      <td>2017</td>\n",
              "    </tr>\n",
              "    <tr>\n",
              "      <th>1618</th>\n",
              "      <td>Jakarta Utara</td>\n",
              "      <td>KOJA</td>\n",
              "      <td>TUGU SELATAN</td>\n",
              "      <td>NaN</td>\n",
              "      <td>3.0</td>\n",
              "      <td>0.0</td>\n",
              "      <td>0</td>\n",
              "      <td>0.0</td>\n",
              "      <td>10 - 20 cm</td>\n",
              "      <td>16, 21 - 22\\n(3 Hari)</td>\n",
              "      <td>1.0</td>\n",
              "      <td>0.0</td>\n",
              "      <td>0.0</td>\n",
              "      <td>0.0</td>\n",
              "      <td>0.0</td>\n",
              "      <td>0.0</td>\n",
              "      <td>0.0</td>\n",
              "      <td>0.0</td>\n",
              "      <td>februari</td>\n",
              "      <td>2017</td>\n",
              "    </tr>\n",
              "    <tr>\n",
              "      <th>1619</th>\n",
              "      <td>Jakarta Utara</td>\n",
              "      <td>PENJARINGAN</td>\n",
              "      <td>PEJAGALAN</td>\n",
              "      <td>NaN</td>\n",
              "      <td>1.0</td>\n",
              "      <td>0.0</td>\n",
              "      <td>0</td>\n",
              "      <td>0.0</td>\n",
              "      <td>30 cm</td>\n",
              "      <td>19\\n(1 Hari)</td>\n",
              "      <td>0.0</td>\n",
              "      <td>0.0</td>\n",
              "      <td>0.0</td>\n",
              "      <td>0.0</td>\n",
              "      <td>0.0</td>\n",
              "      <td>0.0</td>\n",
              "      <td>0.0</td>\n",
              "      <td>0.0</td>\n",
              "      <td>februari</td>\n",
              "      <td>2017</td>\n",
              "    </tr>\n",
              "    <tr>\n",
              "      <th>1620</th>\n",
              "      <td>Jakarta Utara</td>\n",
              "      <td>PENJARINGAN</td>\n",
              "      <td>PENJARINGAN</td>\n",
              "      <td>NaN</td>\n",
              "      <td>1.0</td>\n",
              "      <td>0.0</td>\n",
              "      <td>0</td>\n",
              "      <td>0.0</td>\n",
              "      <td>30 - 40 cm</td>\n",
              "      <td>21 - 22\\n(2 Hari)</td>\n",
              "      <td>0.0</td>\n",
              "      <td>0.0</td>\n",
              "      <td>0.0</td>\n",
              "      <td>0.0</td>\n",
              "      <td>0.0</td>\n",
              "      <td>0.0</td>\n",
              "      <td>0.0</td>\n",
              "      <td>0.0</td>\n",
              "      <td>februari</td>\n",
              "      <td>2017</td>\n",
              "    </tr>\n",
              "    <tr>\n",
              "      <th>1621</th>\n",
              "      <td>Jakarta Utara</td>\n",
              "      <td>TANJUNG PRIOK</td>\n",
              "      <td>TANJUNG PRIUK</td>\n",
              "      <td>NaN</td>\n",
              "      <td>4.0</td>\n",
              "      <td>0.0</td>\n",
              "      <td>0</td>\n",
              "      <td>0.0</td>\n",
              "      <td>30 cm</td>\n",
              "      <td>17\\n(1 Hari)</td>\n",
              "      <td>0.0</td>\n",
              "      <td>0.0</td>\n",
              "      <td>0.0</td>\n",
              "      <td>0.0</td>\n",
              "      <td>0.0</td>\n",
              "      <td>0.0</td>\n",
              "      <td>0.0</td>\n",
              "      <td>0.0</td>\n",
              "      <td>februari</td>\n",
              "      <td>2017</td>\n",
              "    </tr>\n",
              "  </tbody>\n",
              "</table>\n",
              "<p>1622 rows × 20 columns</p>\n",
              "</div>"
            ],
            "text/plain": [
              "     kota_administrasi      kecamatan  ...     bulan tahun\n",
              "0        Jakarta Pusat     JOHAR BARU  ...   januari  2020\n",
              "1        Jakarta Pusat      KEMAYORAN  ...   januari  2020\n",
              "2        Jakarta Pusat      KEMAYORAN  ...   januari  2020\n",
              "3        Jakarta Pusat    SAWAH BESAR  ...   januari  2020\n",
              "4        Jakarta Pusat    TANAH ABANG  ...   januari  2020\n",
              "...                ...            ...  ...       ...   ...\n",
              "1617     Jakarta Utara      CILINCING  ...  februari  2017\n",
              "1618     Jakarta Utara           KOJA  ...  februari  2017\n",
              "1619     Jakarta Utara    PENJARINGAN  ...  februari  2017\n",
              "1620     Jakarta Utara    PENJARINGAN  ...  februari  2017\n",
              "1621     Jakarta Utara  TANJUNG PRIOK  ...  februari  2017\n",
              "\n",
              "[1622 rows x 20 columns]"
            ]
          },
          "metadata": {
            "tags": []
          },
          "execution_count": 626
        }
      ]
    },
    {
      "cell_type": "code",
      "metadata": {
        "colab": {
          "base_uri": "https://localhost:8080/"
        },
        "id": "sCw6Qs1gc8C9",
        "outputId": "d73ffdf6-e491-4a12-d4da-c0273824bb85"
      },
      "source": [
        "data.info()"
      ],
      "execution_count": null,
      "outputs": [
        {
          "output_type": "stream",
          "text": [
            "<class 'pandas.core.frame.DataFrame'>\n",
            "RangeIndex: 1622 entries, 0 to 1621\n",
            "Data columns (total 20 columns):\n",
            " #   Column                      Non-Null Count  Dtype  \n",
            "---  ------                      --------------  -----  \n",
            " 0   kota_administrasi           1572 non-null   object \n",
            " 1   kecamatan                   1572 non-null   object \n",
            " 2   kelurahan                   1572 non-null   object \n",
            " 3   rw                          1505 non-null   object \n",
            " 4   jumlah_terdampak_rw         1572 non-null   float64\n",
            " 5   jumlah_terdampak_rt         1572 non-null   float64\n",
            " 6   jumlah_terdampak_kk         1572 non-null   object \n",
            " 7   jumlah_terdampak_jiwa       1572 non-null   float64\n",
            " 8   ketinggian_air              1572 non-null   object \n",
            " 9   tanggal_kejadian            1572 non-null   object \n",
            " 10  lama_genangan               1572 non-null   float64\n",
            " 11  jumlah_meninggal            1572 non-null   float64\n",
            " 12  jumlah_hilang               1572 non-null   float64\n",
            " 13  jumlah_luka_berat           1572 non-null   float64\n",
            " 14  jumlah_luka_ringan          1572 non-null   float64\n",
            " 15  jumlah_pengungsi_tertinggi  1572 non-null   float64\n",
            " 16  jumlah_tempat_pengungsian   1572 non-null   float64\n",
            " 17  nilai_kerugian              1572 non-null   float64\n",
            " 18  bulan                       1622 non-null   object \n",
            " 19  tahun                       1622 non-null   object \n",
            "dtypes: float64(11), object(9)\n",
            "memory usage: 253.6+ KB\n"
          ],
          "name": "stdout"
        }
      ]
    },
    {
      "cell_type": "code",
      "metadata": {
        "colab": {
          "base_uri": "https://localhost:8080/",
          "height": 315
        },
        "id": "TFpzGqN-c9DB",
        "outputId": "e2623c43-3271-44ff-f482-757e886d4c5b"
      },
      "source": [
        "data.describe()"
      ],
      "execution_count": null,
      "outputs": [
        {
          "output_type": "execute_result",
          "data": {
            "text/html": [
              "<div>\n",
              "<style scoped>\n",
              "    .dataframe tbody tr th:only-of-type {\n",
              "        vertical-align: middle;\n",
              "    }\n",
              "\n",
              "    .dataframe tbody tr th {\n",
              "        vertical-align: top;\n",
              "    }\n",
              "\n",
              "    .dataframe thead th {\n",
              "        text-align: right;\n",
              "    }\n",
              "</style>\n",
              "<table border=\"1\" class=\"dataframe\">\n",
              "  <thead>\n",
              "    <tr style=\"text-align: right;\">\n",
              "      <th></th>\n",
              "      <th>jumlah_terdampak_rw</th>\n",
              "      <th>jumlah_terdampak_rt</th>\n",
              "      <th>jumlah_terdampak_jiwa</th>\n",
              "      <th>lama_genangan</th>\n",
              "      <th>jumlah_meninggal</th>\n",
              "      <th>jumlah_hilang</th>\n",
              "      <th>jumlah_luka_berat</th>\n",
              "      <th>jumlah_luka_ringan</th>\n",
              "      <th>jumlah_pengungsi_tertinggi</th>\n",
              "      <th>jumlah_tempat_pengungsian</th>\n",
              "      <th>nilai_kerugian</th>\n",
              "    </tr>\n",
              "  </thead>\n",
              "  <tbody>\n",
              "    <tr>\n",
              "      <th>count</th>\n",
              "      <td>1572.000000</td>\n",
              "      <td>1572.000000</td>\n",
              "      <td>1572.000000</td>\n",
              "      <td>1572.000000</td>\n",
              "      <td>1572.0</td>\n",
              "      <td>1572.000000</td>\n",
              "      <td>1572.0</td>\n",
              "      <td>1572.00000</td>\n",
              "      <td>1572.000000</td>\n",
              "      <td>1572.000000</td>\n",
              "      <td>1572.0</td>\n",
              "    </tr>\n",
              "    <tr>\n",
              "      <th>mean</th>\n",
              "      <td>2.088422</td>\n",
              "      <td>3.907761</td>\n",
              "      <td>156.380407</td>\n",
              "      <td>0.017812</td>\n",
              "      <td>0.0</td>\n",
              "      <td>0.000636</td>\n",
              "      <td>0.0</td>\n",
              "      <td>75.50000</td>\n",
              "      <td>0.922392</td>\n",
              "      <td>0.007634</td>\n",
              "      <td>0.0</td>\n",
              "    </tr>\n",
              "    <tr>\n",
              "      <th>std</th>\n",
              "      <td>2.275812</td>\n",
              "      <td>7.164416</td>\n",
              "      <td>650.559332</td>\n",
              "      <td>0.146030</td>\n",
              "      <td>0.0</td>\n",
              "      <td>0.025222</td>\n",
              "      <td>0.0</td>\n",
              "      <td>329.47924</td>\n",
              "      <td>8.544359</td>\n",
              "      <td>0.112572</td>\n",
              "      <td>0.0</td>\n",
              "    </tr>\n",
              "    <tr>\n",
              "      <th>min</th>\n",
              "      <td>0.000000</td>\n",
              "      <td>0.000000</td>\n",
              "      <td>0.000000</td>\n",
              "      <td>0.000000</td>\n",
              "      <td>0.0</td>\n",
              "      <td>0.000000</td>\n",
              "      <td>0.0</td>\n",
              "      <td>0.00000</td>\n",
              "      <td>0.000000</td>\n",
              "      <td>0.000000</td>\n",
              "      <td>0.0</td>\n",
              "    </tr>\n",
              "    <tr>\n",
              "      <th>25%</th>\n",
              "      <td>1.000000</td>\n",
              "      <td>1.000000</td>\n",
              "      <td>0.000000</td>\n",
              "      <td>0.000000</td>\n",
              "      <td>0.0</td>\n",
              "      <td>0.000000</td>\n",
              "      <td>0.0</td>\n",
              "      <td>0.00000</td>\n",
              "      <td>0.000000</td>\n",
              "      <td>0.000000</td>\n",
              "      <td>0.0</td>\n",
              "    </tr>\n",
              "    <tr>\n",
              "      <th>50%</th>\n",
              "      <td>1.000000</td>\n",
              "      <td>1.000000</td>\n",
              "      <td>0.000000</td>\n",
              "      <td>0.000000</td>\n",
              "      <td>0.0</td>\n",
              "      <td>0.000000</td>\n",
              "      <td>0.0</td>\n",
              "      <td>0.00000</td>\n",
              "      <td>0.000000</td>\n",
              "      <td>0.000000</td>\n",
              "      <td>0.0</td>\n",
              "    </tr>\n",
              "    <tr>\n",
              "      <th>75%</th>\n",
              "      <td>3.000000</td>\n",
              "      <td>4.000000</td>\n",
              "      <td>0.000000</td>\n",
              "      <td>0.000000</td>\n",
              "      <td>0.0</td>\n",
              "      <td>0.000000</td>\n",
              "      <td>0.0</td>\n",
              "      <td>0.00000</td>\n",
              "      <td>0.000000</td>\n",
              "      <td>0.000000</td>\n",
              "      <td>0.0</td>\n",
              "    </tr>\n",
              "    <tr>\n",
              "      <th>max</th>\n",
              "      <td>16.000000</td>\n",
              "      <td>143.000000</td>\n",
              "      <td>13450.000000</td>\n",
              "      <td>2.000000</td>\n",
              "      <td>0.0</td>\n",
              "      <td>1.000000</td>\n",
              "      <td>0.0</td>\n",
              "      <td>4461.00000</td>\n",
              "      <td>271.000000</td>\n",
              "      <td>3.000000</td>\n",
              "      <td>0.0</td>\n",
              "    </tr>\n",
              "  </tbody>\n",
              "</table>\n",
              "</div>"
            ],
            "text/plain": [
              "       jumlah_terdampak_rw  ...  nilai_kerugian\n",
              "count          1572.000000  ...          1572.0\n",
              "mean              2.088422  ...             0.0\n",
              "std               2.275812  ...             0.0\n",
              "min               0.000000  ...             0.0\n",
              "25%               1.000000  ...             0.0\n",
              "50%               1.000000  ...             0.0\n",
              "75%               3.000000  ...             0.0\n",
              "max              16.000000  ...             0.0\n",
              "\n",
              "[8 rows x 11 columns]"
            ]
          },
          "metadata": {
            "tags": []
          },
          "execution_count": 628
        }
      ]
    },
    {
      "cell_type": "code",
      "metadata": {
        "colab": {
          "base_uri": "https://localhost:8080/"
        },
        "id": "ylCG7xGSeEJq",
        "outputId": "177799e5-2338-4216-de61-8a33938a1839"
      },
      "source": [
        "data.to_csv('/content/drive/MyDrive/GenGigih/JakartaFloods/alldata.csv', index=False)\n",
        "print('done')"
      ],
      "execution_count": null,
      "outputs": [
        {
          "output_type": "stream",
          "text": [
            "done\n"
          ],
          "name": "stdout"
        }
      ]
    },
    {
      "cell_type": "code",
      "metadata": {
        "id": "I_SDJOz3el4T"
      },
      "source": [
        "for i,x in enumerate(data['tanggal_kejadian']):\n",
        "  print(i,x)"
      ],
      "execution_count": null,
      "outputs": []
    },
    {
      "cell_type": "code",
      "metadata": {
        "id": "n6NDbLizpgk7"
      },
      "source": [
        "for i,x in enumerate(data['tanggal_kejadian']):\n",
        "  try:\n",
        "    data['tanggal_kejadian'][i] = datetime.strptime(data['tanggal_kejadian'][i], \"%Y-%m-%d\").day\n",
        "    print(data['tanggal_kejadian'][i])\n",
        "  except:\n",
        "    pass"
      ],
      "execution_count": null,
      "outputs": []
    },
    {
      "cell_type": "code",
      "metadata": {
        "id": "0Qq6wkPnvqEJ"
      },
      "source": [
        "for i,x in enumerate(data['tanggal_kejadian']):\n",
        "  print(i)\n",
        "  if data['tanggal_kejadian'][i] is not np.nan:\n",
        "    data['tanggal_kejadian'][i] = str(data['tanggal_kejadian'][i])\n",
        "    data['tanggal_kejadian'][i] = data['tanggal_kejadian'][i].replace(\"s/d\", \"-\")\n",
        "    data['tanggal_kejadian'][i] = data['tanggal_kejadian'][i].replace(\"&\", \",\")\n",
        "    data['tanggal_kejadian'][i] = re.sub(\".*?\\((.*?)\\)\", '', data['tanggal_kejadian'][i])\n",
        "    data['tanggal_kejadian'][i] = data['tanggal_kejadian'][i].replace('\\n',' ')\n",
        "    data['tanggal_kejadian'][i] = re.sub(\"[^0-9\\-,]\", \" \", data['tanggal_kejadian'][i])\n",
        "    data['tanggal_kejadian'][i] = re.sub(\"\\d{4}\", '', data['tanggal_kejadian'][i])\n",
        "    data['tanggal_kejadian'][i] = re.sub(' +', ' ', data['tanggal_kejadian'][i])\n",
        "    data['tanggal_kejadian'][i] = data['tanggal_kejadian'][i].replace(\" \", \"\")"
      ],
      "execution_count": null,
      "outputs": []
    },
    {
      "cell_type": "code",
      "metadata": {
        "id": "GN1blKZmwtfz"
      },
      "source": [
        "for i,x in enumerate(data['tanggal_kejadian']):\n",
        "  print(i, x)"
      ],
      "execution_count": null,
      "outputs": []
    },
    {
      "cell_type": "code",
      "metadata": {
        "id": "EzTGGm3Ilegc"
      },
      "source": [
        "for enum,x in enumerate(data['tanggal_kejadian']):\n",
        "  tot=[]\n",
        "  print(enum, x)\n",
        "  if x is not np.nan:\n",
        "    for i in data['tanggal_kejadian'][enum].split(','):\n",
        "      if '-' in i:\n",
        "        a = i.split('-')\n",
        "        for j in range(int(a[0]),int(a[1])+1):\n",
        "          tot.append(j)\n",
        "      elif i is not np.nan and i!='':\n",
        "        print(i)\n",
        "        tot.append(int(i))\n",
        "    data['tanggal_kejadian'][enum] = tot"
      ],
      "execution_count": null,
      "outputs": []
    },
    {
      "cell_type": "code",
      "metadata": {
        "id": "UJWxs7MEqS2r"
      },
      "source": [
        "for enum,x in enumerate(data['tanggal_kejadian']):\n",
        "  print(enum, x)"
      ],
      "execution_count": null,
      "outputs": []
    },
    {
      "cell_type": "code",
      "metadata": {
        "id": "fjpNbVLOtrSA"
      },
      "source": [
        "data['tanggal'] = data['tanggal_kejadian'].copy()\n",
        "data"
      ],
      "execution_count": null,
      "outputs": []
    },
    {
      "cell_type": "code",
      "metadata": {
        "id": "WV0YaKtxt5hi"
      },
      "source": [
        "data[\"bulan\"].replace({\"januari\": \"1\", \n",
        "                     \"februari\": \"2\",\n",
        "                     \"maret\": \"3\", \n",
        "                     \"april\": \"4\",\n",
        "                     \"mei\": \"5\", \n",
        "                     \"juni\": \"6\",\n",
        "                     \"juli\": \"7\", \n",
        "                     \"agustus\": \"8\",\n",
        "                     \"september\": \"9\", \n",
        "                     \"oktober\": \"10\",\n",
        "                     \"november\": \"11\", \n",
        "                     \"desember\": \"12\"\n",
        "                     }, inplace=True)"
      ],
      "execution_count": null,
      "outputs": []
    },
    {
      "cell_type": "code",
      "metadata": {
        "id": "_dGLUp8zvAZ7"
      },
      "source": [
        "data[\"tanggal_awal_kejadian\"]=datetime.now()\n",
        "data[\"tanggal_akhir_kejadian\"]=datetime.now()\n",
        "data[\"durasi_banjir\"]=0\n",
        "for i,x in enumerate(data['tanggal_kejadian']):\n",
        "  if x is not np.nan and x!=[]:\n",
        "    dateawal = str(data['tanggal'][i][0]) +'/'+ str(data['bulan'][i]) +'/'+ str(data['tahun'][i])\n",
        "    dateakhir = str(data['tanggal'][i][-1]) +'/'+ str(data['bulan'][i]) +'/'+ str(data['tahun'][i])\n",
        "    data[\"tanggal_awal_kejadian\"][i] = datetime.strptime(dateawal, '%d/%m/%Y')\n",
        "    data[\"tanggal_akhir_kejadian\"][i] = datetime.strptime(dateakhir, '%d/%m/%Y')\n",
        "    data[\"durasi_banjir\"][i] = len(data['tanggal'][i])"
      ],
      "execution_count": null,
      "outputs": []
    },
    {
      "cell_type": "code",
      "metadata": {
        "id": "v7ZLfX9MzIlZ"
      },
      "source": [
        "data.drop(columns=['tanggal_kejadian'], inplace=True)\n",
        "data"
      ],
      "execution_count": null,
      "outputs": []
    },
    {
      "cell_type": "code",
      "metadata": {
        "id": "krTwxdJJ17lO"
      },
      "source": [
        "data.dropna(subset=['kota_administrasi'], inplace=True)\n",
        "data"
      ],
      "execution_count": null,
      "outputs": []
    },
    {
      "cell_type": "code",
      "metadata": {
        "colab": {
          "base_uri": "https://localhost:8080/"
        },
        "id": "PSnLHQpH0aAw",
        "outputId": "524ad109-9267-494e-f98a-47d60136d97c"
      },
      "source": [
        "data.to_csv('/content/drive/MyDrive/GenGigih/JakartaFloods/alldata.csv', index=False)\n",
        "print('done')"
      ],
      "execution_count": null,
      "outputs": [
        {
          "output_type": "stream",
          "text": [
            "done\n"
          ],
          "name": "stdout"
        }
      ]
    },
    {
      "cell_type": "code",
      "metadata": {
        "colab": {
          "base_uri": "https://localhost:8080/"
        },
        "id": "Dw-H8RcJeBbx",
        "outputId": "3f9dde6e-2302-4343-cb40-187bf1b210f8"
      },
      "source": [
        "data['kota_administrasi'].value_counts(dropna=False)"
      ],
      "execution_count": null,
      "outputs": [
        {
          "output_type": "execute_result",
          "data": {
            "text/plain": [
              "Jakarta Timur       566\n",
              "Jakarta Selatan     502\n",
              "Jakarta Barat       295\n",
              "Jakarta Utara       147\n",
              "Jakarta Pusat        46\n",
              "Kepulauan Seribu     14\n",
              "Jakarta Urata         2\n",
              "Name: kota_administrasi, dtype: int64"
            ]
          },
          "metadata": {
            "tags": []
          },
          "execution_count": 642
        }
      ]
    },
    {
      "cell_type": "code",
      "metadata": {
        "colab": {
          "base_uri": "https://localhost:8080/"
        },
        "id": "Tay5drTy2nVw",
        "outputId": "df93a664-9652-4ab3-c1af-e7da7e80b010"
      },
      "source": [
        "data[\"kota_administrasi\"].replace({\"Jakarta Urata\": \"Jakarta Utara\"}, inplace=True)\n",
        "data['kota_administrasi'].value_counts(dropna=False)"
      ],
      "execution_count": null,
      "outputs": [
        {
          "output_type": "execute_result",
          "data": {
            "text/plain": [
              "Jakarta Timur       566\n",
              "Jakarta Selatan     502\n",
              "Jakarta Barat       295\n",
              "Jakarta Utara       149\n",
              "Jakarta Pusat        46\n",
              "Kepulauan Seribu     14\n",
              "Name: kota_administrasi, dtype: int64"
            ]
          },
          "metadata": {
            "tags": []
          },
          "execution_count": 643
        }
      ]
    },
    {
      "cell_type": "code",
      "metadata": {
        "id": "1X87Ggjv2nZu"
      },
      "source": [
        "a = data['kecamatan'].value_counts(dropna=False)\n",
        "for i in range(len(a)):\n",
        "  print(a.index[i],a[i])"
      ],
      "execution_count": null,
      "outputs": []
    },
    {
      "cell_type": "code",
      "metadata": {
        "id": "7lQjY7bL3-g7"
      },
      "source": [
        "data.kecamatan = data.kecamatan.str.replace(\"KEC. \", \"\")\n",
        "data.kecamatan = data.kecamatan.str.replace(\"KEC.\", \"\")\n",
        "data.kecamatan = data.kecamatan.str.strip()"
      ],
      "execution_count": null,
      "outputs": []
    },
    {
      "cell_type": "code",
      "metadata": {
        "id": "sq7WAVxN5PW3"
      },
      "source": [
        "data['kecamatan'].value_counts(dropna=False)"
      ],
      "execution_count": null,
      "outputs": []
    },
    {
      "cell_type": "code",
      "metadata": {
        "id": "OFJTUvo35V8U"
      },
      "source": [
        "data[\"kecamatan\"].replace({\"MAKASSAR\": \"MAKASAR\",\n",
        "                           \"SETIA BUDI\": \"SETIABUDI\",\n",
        "                           \"PULO GADUNG\": \"PULOGADUNG\",\n",
        "                           \"KALI DERES\": \"KALIDERES\",\n",
        "                           \"CILIINCING\": \"CILINCING\",\n",
        "                           }, inplace=True)\n",
        "data['kecamatan'].value_counts(dropna=False)"
      ],
      "execution_count": null,
      "outputs": []
    },
    {
      "cell_type": "code",
      "metadata": {
        "colab": {
          "base_uri": "https://localhost:8080/"
        },
        "id": "ROZ-hcxf67Oh",
        "outputId": "ca734255-46a5-4116-8c6a-ce7919271cb4"
      },
      "source": [
        "data['kelurahan'].value_counts(dropna=False)"
      ],
      "execution_count": null,
      "outputs": [
        {
          "output_type": "execute_result",
          "data": {
            "text/plain": [
              "KAMPUNG MELAYU          76\n",
              "CAWANG                  47\n",
              "BIDARA CINA             37\n",
              "RAMBUTAN                26\n",
              "PEJATEN TIMUR           25\n",
              "                        ..\n",
              "KEL. GROGOL SELATAN      1\n",
              "KEL. JELAMBAR            1\n",
              "JATINEGARA               1\n",
              "PASAR MINGGU             1\n",
              "CIPINANG BESAR UTARA     1\n",
              "Name: kelurahan, Length: 346, dtype: int64"
            ]
          },
          "metadata": {
            "tags": []
          },
          "execution_count": 648
        }
      ]
    },
    {
      "cell_type": "code",
      "metadata": {
        "id": "GUBdlq_J7Mje"
      },
      "source": [
        "a = data['kelurahan'].value_counts(dropna=False)\n",
        "for i in range(len(a)):\n",
        "  print(a.index[i],a[i])"
      ],
      "execution_count": null,
      "outputs": []
    },
    {
      "cell_type": "code",
      "metadata": {
        "id": "c3yXxvC17Mlp"
      },
      "source": [
        "data.kelurahan = data.kelurahan.str.replace(\"KEL. \", \"\")\n",
        "data.kelurahan = data.kelurahan.str.replace(\"KEL.\", \"\")\n",
        "data.kelurahan = data.kelurahan.str.strip()"
      ],
      "execution_count": null,
      "outputs": []
    },
    {
      "cell_type": "code",
      "metadata": {
        "colab": {
          "base_uri": "https://localhost:8080/"
        },
        "id": "NznRgAEk7Y8z",
        "outputId": "97ceeca0-ef8e-4b34-94eb-07da33ff98b3"
      },
      "source": [
        "data['kelurahan'].value_counts(dropna=False)"
      ],
      "execution_count": null,
      "outputs": [
        {
          "output_type": "execute_result",
          "data": {
            "text/plain": [
              "KAMPUNG MELAYU     89\n",
              "CAWANG             58\n",
              "BIDARA CINA        46\n",
              "PEJATEN TIMUR      33\n",
              "RAMBUTAN           31\n",
              "                   ..\n",
              "KEBON PA            1\n",
              "KALIBARU            1\n",
              "JATINEGARA KAUM     1\n",
              "SUKA PURA           1\n",
              "RAWASARI            1\n",
              "Name: kelurahan, Length: 233, dtype: int64"
            ]
          },
          "metadata": {
            "tags": []
          },
          "execution_count": 651
        }
      ]
    },
    {
      "cell_type": "code",
      "metadata": {
        "id": "Wn1JEjGs7klB"
      },
      "source": [
        "a = data['kelurahan'].value_counts(dropna=False)\n",
        "for i in range(len(a)):\n",
        "  print(a.index[i],a[i])"
      ],
      "execution_count": null,
      "outputs": []
    },
    {
      "cell_type": "code",
      "metadata": {
        "colab": {
          "base_uri": "https://localhost:8080/"
        },
        "id": "hIxuG4_z7v_R",
        "outputId": "e3033f75-dfa3-4d1f-bb9e-6f9a8aa44903"
      },
      "source": [
        "data[\"kelurahan\"].replace({\"RAWA JATI\": \"RAWAJATI\",\n",
        "                           \"SUKA PURA\": \"SUKAPURA\",\n",
        "                           \"JATIPADANG\": \"JATI PADANG\",\n",
        "                           \"PULO GADUNG\": \"PULOGADUNG\",\n",
        "                           \"PANGADEGAN\": \"PENGADEGAN\",\n",
        "                           \"PENGEDEGAN\": \"PENGADEGAN\",\n",
        "                           \"TANJUNG PRIUK\": \"TANJUNG PRIOK\",\n",
        "                           \"WIJAYA KESUMA\": \"WIJAYA KUSUMA\",\n",
        "                           \"BALE KAMBANG\": \"BALEKAMBANG\",\n",
        "                           }, inplace=True)\n",
        "data['kelurahan'].value_counts(dropna=False)"
      ],
      "execution_count": null,
      "outputs": [
        {
          "output_type": "execute_result",
          "data": {
            "text/plain": [
              "KAMPUNG MELAYU    89\n",
              "CAWANG            58\n",
              "BIDARA CINA       46\n",
              "PEJATEN TIMUR     33\n",
              "RAMBUTAN          31\n",
              "                  ..\n",
              "PULAU PA           1\n",
              "RAWA BARAT         1\n",
              "MANGGA BESAR       1\n",
              "CEMPAKA BARU       1\n",
              "PASEBAN            1\n",
              "Name: kelurahan, Length: 224, dtype: int64"
            ]
          },
          "metadata": {
            "tags": []
          },
          "execution_count": 653
        }
      ]
    },
    {
      "cell_type": "code",
      "metadata": {
        "colab": {
          "base_uri": "https://localhost:8080/"
        },
        "id": "rhP5QKE97wDP",
        "outputId": "eeb582c4-4187-48c7-f39a-d585f01c1030"
      },
      "source": [
        "data.to_csv('/content/drive/MyDrive/GenGigih/JakartaFloods/alldata.csv', index=False)\n",
        "print('done')"
      ],
      "execution_count": null,
      "outputs": [
        {
          "output_type": "stream",
          "text": [
            "done\n"
          ],
          "name": "stdout"
        }
      ]
    },
    {
      "cell_type": "code",
      "metadata": {
        "id": "4LdH3wEOJzfF"
      },
      "source": [
        "data = pd.read_csv('/content/drive/MyDrive/GenGigih/JakartaFloods/alldata.csv')"
      ],
      "execution_count": null,
      "outputs": []
    },
    {
      "cell_type": "code",
      "metadata": {
        "colab": {
          "base_uri": "https://localhost:8080/",
          "height": 874
        },
        "id": "FJOfBVI5Jq8L",
        "outputId": "65e2d730-21de-4a84-a581-019653ee8c60"
      },
      "source": [
        "data"
      ],
      "execution_count": null,
      "outputs": [
        {
          "output_type": "execute_result",
          "data": {
            "text/html": [
              "<div>\n",
              "<style scoped>\n",
              "    .dataframe tbody tr th:only-of-type {\n",
              "        vertical-align: middle;\n",
              "    }\n",
              "\n",
              "    .dataframe tbody tr th {\n",
              "        vertical-align: top;\n",
              "    }\n",
              "\n",
              "    .dataframe thead th {\n",
              "        text-align: right;\n",
              "    }\n",
              "</style>\n",
              "<table border=\"1\" class=\"dataframe\">\n",
              "  <thead>\n",
              "    <tr style=\"text-align: right;\">\n",
              "      <th></th>\n",
              "      <th>kota_administrasi</th>\n",
              "      <th>kecamatan</th>\n",
              "      <th>kelurahan</th>\n",
              "      <th>rw</th>\n",
              "      <th>jumlah_terdampak_rw</th>\n",
              "      <th>jumlah_terdampak_rt</th>\n",
              "      <th>jumlah_terdampak_kk</th>\n",
              "      <th>jumlah_terdampak_jiwa</th>\n",
              "      <th>ketinggian_air</th>\n",
              "      <th>lama_genangan</th>\n",
              "      <th>jumlah_meninggal</th>\n",
              "      <th>jumlah_hilang</th>\n",
              "      <th>jumlah_luka_berat</th>\n",
              "      <th>jumlah_luka_ringan</th>\n",
              "      <th>jumlah_pengungsi_tertinggi</th>\n",
              "      <th>jumlah_tempat_pengungsian</th>\n",
              "      <th>nilai_kerugian</th>\n",
              "      <th>bulan</th>\n",
              "      <th>tahun</th>\n",
              "      <th>tanggal</th>\n",
              "      <th>tanggal_awal_kejadian</th>\n",
              "      <th>tanggal_akhir_kejadian</th>\n",
              "      <th>durasi_banjir</th>\n",
              "    </tr>\n",
              "  </thead>\n",
              "  <tbody>\n",
              "    <tr>\n",
              "      <th>0</th>\n",
              "      <td>Jakarta Pusat</td>\n",
              "      <td>JOHAR BARU</td>\n",
              "      <td>JOHAR BARU</td>\n",
              "      <td>RW 01, 02, 06, 08</td>\n",
              "      <td>4.0</td>\n",
              "      <td>4.0</td>\n",
              "      <td>35.0</td>\n",
              "      <td>140.0</td>\n",
              "      <td>10 s/d 30 cm</td>\n",
              "      <td>0.0</td>\n",
              "      <td>0.0</td>\n",
              "      <td>0.0</td>\n",
              "      <td>0.0</td>\n",
              "      <td>140.0</td>\n",
              "      <td>1.0</td>\n",
              "      <td>0.0</td>\n",
              "      <td>0.0</td>\n",
              "      <td>1</td>\n",
              "      <td>2020</td>\n",
              "      <td>[1]</td>\n",
              "      <td>2020-01-01 00:00:00.000000</td>\n",
              "      <td>2020-01-01 00:00:00.000000</td>\n",
              "      <td>1</td>\n",
              "    </tr>\n",
              "    <tr>\n",
              "      <th>1</th>\n",
              "      <td>Jakarta Pusat</td>\n",
              "      <td>KEMAYORAN</td>\n",
              "      <td>GUNUNG SAHARI SELATAN</td>\n",
              "      <td>RW 01, 02, 07, 08</td>\n",
              "      <td>4.0</td>\n",
              "      <td>4.0</td>\n",
              "      <td>0.0</td>\n",
              "      <td>0.0</td>\n",
              "      <td>10 s/d 70 cm</td>\n",
              "      <td>0.0</td>\n",
              "      <td>0.0</td>\n",
              "      <td>0.0</td>\n",
              "      <td>0.0</td>\n",
              "      <td>0.0</td>\n",
              "      <td>0.0</td>\n",
              "      <td>0.0</td>\n",
              "      <td>0.0</td>\n",
              "      <td>1</td>\n",
              "      <td>2020</td>\n",
              "      <td>[1]</td>\n",
              "      <td>2020-01-01 00:00:00.000000</td>\n",
              "      <td>2020-01-01 00:00:00.000000</td>\n",
              "      <td>1</td>\n",
              "    </tr>\n",
              "    <tr>\n",
              "      <th>2</th>\n",
              "      <td>Jakarta Pusat</td>\n",
              "      <td>KEMAYORAN</td>\n",
              "      <td>SERDANG</td>\n",
              "      <td>RW 01, 02, 06, 07</td>\n",
              "      <td>4.0</td>\n",
              "      <td>4.0</td>\n",
              "      <td>0.0</td>\n",
              "      <td>0.0</td>\n",
              "      <td>10 s/d 30 cm</td>\n",
              "      <td>1.0</td>\n",
              "      <td>0.0</td>\n",
              "      <td>0.0</td>\n",
              "      <td>0.0</td>\n",
              "      <td>0.0</td>\n",
              "      <td>0.0</td>\n",
              "      <td>0.0</td>\n",
              "      <td>0.0</td>\n",
              "      <td>1</td>\n",
              "      <td>2020</td>\n",
              "      <td>[1]</td>\n",
              "      <td>2020-01-01 00:00:00.000000</td>\n",
              "      <td>2020-01-01 00:00:00.000000</td>\n",
              "      <td>1</td>\n",
              "    </tr>\n",
              "    <tr>\n",
              "      <th>3</th>\n",
              "      <td>Jakarta Pusat</td>\n",
              "      <td>SAWAH BESAR</td>\n",
              "      <td>PASAR BARU</td>\n",
              "      <td>RW 02, 03, 04, 05, 06, 07, 08</td>\n",
              "      <td>7.0</td>\n",
              "      <td>7.0</td>\n",
              "      <td>155.0</td>\n",
              "      <td>625.0</td>\n",
              "      <td>10 s/d 70 cm</td>\n",
              "      <td>0.0</td>\n",
              "      <td>0.0</td>\n",
              "      <td>0.0</td>\n",
              "      <td>0.0</td>\n",
              "      <td>625.0</td>\n",
              "      <td>5.0</td>\n",
              "      <td>0.0</td>\n",
              "      <td>0.0</td>\n",
              "      <td>1</td>\n",
              "      <td>2020</td>\n",
              "      <td>[1]</td>\n",
              "      <td>2020-01-01 00:00:00.000000</td>\n",
              "      <td>2020-01-01 00:00:00.000000</td>\n",
              "      <td>1</td>\n",
              "    </tr>\n",
              "    <tr>\n",
              "      <th>4</th>\n",
              "      <td>Jakarta Pusat</td>\n",
              "      <td>TANAH ABANG</td>\n",
              "      <td>BENDUNGAN HILIR</td>\n",
              "      <td>RW 07, 09</td>\n",
              "      <td>2.0</td>\n",
              "      <td>2.0</td>\n",
              "      <td>52.0</td>\n",
              "      <td>195.0</td>\n",
              "      <td>31 s/d 70 cm</td>\n",
              "      <td>0.0</td>\n",
              "      <td>0.0</td>\n",
              "      <td>0.0</td>\n",
              "      <td>0.0</td>\n",
              "      <td>195.0</td>\n",
              "      <td>6.0</td>\n",
              "      <td>0.0</td>\n",
              "      <td>0.0</td>\n",
              "      <td>1</td>\n",
              "      <td>2020</td>\n",
              "      <td>[1]</td>\n",
              "      <td>2020-01-01 00:00:00.000000</td>\n",
              "      <td>2020-01-01 00:00:00.000000</td>\n",
              "      <td>1</td>\n",
              "    </tr>\n",
              "    <tr>\n",
              "      <th>...</th>\n",
              "      <td>...</td>\n",
              "      <td>...</td>\n",
              "      <td>...</td>\n",
              "      <td>...</td>\n",
              "      <td>...</td>\n",
              "      <td>...</td>\n",
              "      <td>...</td>\n",
              "      <td>...</td>\n",
              "      <td>...</td>\n",
              "      <td>...</td>\n",
              "      <td>...</td>\n",
              "      <td>...</td>\n",
              "      <td>...</td>\n",
              "      <td>...</td>\n",
              "      <td>...</td>\n",
              "      <td>...</td>\n",
              "      <td>...</td>\n",
              "      <td>...</td>\n",
              "      <td>...</td>\n",
              "      <td>...</td>\n",
              "      <td>...</td>\n",
              "      <td>...</td>\n",
              "      <td>...</td>\n",
              "    </tr>\n",
              "    <tr>\n",
              "      <th>1567</th>\n",
              "      <td>Jakarta Utara</td>\n",
              "      <td>CILINCING</td>\n",
              "      <td>SUKAPURA</td>\n",
              "      <td>NaN</td>\n",
              "      <td>1.0</td>\n",
              "      <td>0.0</td>\n",
              "      <td>0</td>\n",
              "      <td>0.0</td>\n",
              "      <td>40 - 50 cm</td>\n",
              "      <td>0.0</td>\n",
              "      <td>0.0</td>\n",
              "      <td>0.0</td>\n",
              "      <td>0.0</td>\n",
              "      <td>20.0</td>\n",
              "      <td>0.0</td>\n",
              "      <td>0.0</td>\n",
              "      <td>0.0</td>\n",
              "      <td>2</td>\n",
              "      <td>2017</td>\n",
              "      <td>[21]</td>\n",
              "      <td>2017-02-21 00:00:00.000000</td>\n",
              "      <td>2017-02-21 00:00:00.000000</td>\n",
              "      <td>1</td>\n",
              "    </tr>\n",
              "    <tr>\n",
              "      <th>1568</th>\n",
              "      <td>Jakarta Utara</td>\n",
              "      <td>KOJA</td>\n",
              "      <td>TUGU SELATAN</td>\n",
              "      <td>NaN</td>\n",
              "      <td>3.0</td>\n",
              "      <td>0.0</td>\n",
              "      <td>0</td>\n",
              "      <td>0.0</td>\n",
              "      <td>10 - 20 cm</td>\n",
              "      <td>1.0</td>\n",
              "      <td>0.0</td>\n",
              "      <td>0.0</td>\n",
              "      <td>0.0</td>\n",
              "      <td>0.0</td>\n",
              "      <td>0.0</td>\n",
              "      <td>0.0</td>\n",
              "      <td>0.0</td>\n",
              "      <td>2</td>\n",
              "      <td>2017</td>\n",
              "      <td>[16, 21, 22]</td>\n",
              "      <td>2017-02-16 00:00:00.000000</td>\n",
              "      <td>2017-02-22 00:00:00.000000</td>\n",
              "      <td>3</td>\n",
              "    </tr>\n",
              "    <tr>\n",
              "      <th>1569</th>\n",
              "      <td>Jakarta Utara</td>\n",
              "      <td>PENJARINGAN</td>\n",
              "      <td>PEJAGALAN</td>\n",
              "      <td>NaN</td>\n",
              "      <td>1.0</td>\n",
              "      <td>0.0</td>\n",
              "      <td>0</td>\n",
              "      <td>0.0</td>\n",
              "      <td>30 cm</td>\n",
              "      <td>0.0</td>\n",
              "      <td>0.0</td>\n",
              "      <td>0.0</td>\n",
              "      <td>0.0</td>\n",
              "      <td>0.0</td>\n",
              "      <td>0.0</td>\n",
              "      <td>0.0</td>\n",
              "      <td>0.0</td>\n",
              "      <td>2</td>\n",
              "      <td>2017</td>\n",
              "      <td>[19]</td>\n",
              "      <td>2017-02-19 00:00:00.000000</td>\n",
              "      <td>2017-02-19 00:00:00.000000</td>\n",
              "      <td>1</td>\n",
              "    </tr>\n",
              "    <tr>\n",
              "      <th>1570</th>\n",
              "      <td>Jakarta Utara</td>\n",
              "      <td>PENJARINGAN</td>\n",
              "      <td>PENJARINGAN</td>\n",
              "      <td>NaN</td>\n",
              "      <td>1.0</td>\n",
              "      <td>0.0</td>\n",
              "      <td>0</td>\n",
              "      <td>0.0</td>\n",
              "      <td>30 - 40 cm</td>\n",
              "      <td>0.0</td>\n",
              "      <td>0.0</td>\n",
              "      <td>0.0</td>\n",
              "      <td>0.0</td>\n",
              "      <td>0.0</td>\n",
              "      <td>0.0</td>\n",
              "      <td>0.0</td>\n",
              "      <td>0.0</td>\n",
              "      <td>2</td>\n",
              "      <td>2017</td>\n",
              "      <td>[21, 22]</td>\n",
              "      <td>2017-02-21 00:00:00.000000</td>\n",
              "      <td>2017-02-22 00:00:00.000000</td>\n",
              "      <td>2</td>\n",
              "    </tr>\n",
              "    <tr>\n",
              "      <th>1571</th>\n",
              "      <td>Jakarta Utara</td>\n",
              "      <td>TANJUNG PRIOK</td>\n",
              "      <td>TANJUNG PRIOK</td>\n",
              "      <td>NaN</td>\n",
              "      <td>4.0</td>\n",
              "      <td>0.0</td>\n",
              "      <td>0</td>\n",
              "      <td>0.0</td>\n",
              "      <td>30 cm</td>\n",
              "      <td>0.0</td>\n",
              "      <td>0.0</td>\n",
              "      <td>0.0</td>\n",
              "      <td>0.0</td>\n",
              "      <td>0.0</td>\n",
              "      <td>0.0</td>\n",
              "      <td>0.0</td>\n",
              "      <td>0.0</td>\n",
              "      <td>2</td>\n",
              "      <td>2017</td>\n",
              "      <td>[17]</td>\n",
              "      <td>2017-02-17 00:00:00.000000</td>\n",
              "      <td>2017-02-17 00:00:00.000000</td>\n",
              "      <td>1</td>\n",
              "    </tr>\n",
              "  </tbody>\n",
              "</table>\n",
              "<p>1572 rows × 23 columns</p>\n",
              "</div>"
            ],
            "text/plain": [
              "     kota_administrasi  ... durasi_banjir\n",
              "0        Jakarta Pusat  ...             1\n",
              "1        Jakarta Pusat  ...             1\n",
              "2        Jakarta Pusat  ...             1\n",
              "3        Jakarta Pusat  ...             1\n",
              "4        Jakarta Pusat  ...             1\n",
              "...                ...  ...           ...\n",
              "1567     Jakarta Utara  ...             1\n",
              "1568     Jakarta Utara  ...             3\n",
              "1569     Jakarta Utara  ...             1\n",
              "1570     Jakarta Utara  ...             2\n",
              "1571     Jakarta Utara  ...             1\n",
              "\n",
              "[1572 rows x 23 columns]"
            ]
          },
          "metadata": {
            "tags": []
          },
          "execution_count": 656
        }
      ]
    },
    {
      "cell_type": "code",
      "metadata": {
        "colab": {
          "base_uri": "https://localhost:8080/"
        },
        "id": "akM3sk7dIpby",
        "outputId": "2ede750c-7fc8-4cf6-acc7-cdec9e6ae4bb"
      },
      "source": [
        "data['rw']"
      ],
      "execution_count": null,
      "outputs": [
        {
          "output_type": "execute_result",
          "data": {
            "text/plain": [
              "0                   RW 01, 02, 06, 08\n",
              "1                   RW 01, 02, 07, 08\n",
              "2                   RW 01, 02, 06, 07\n",
              "3       RW 02, 03, 04, 05, 06, 07, 08\n",
              "4                           RW 07, 09\n",
              "                    ...              \n",
              "1567                              NaN\n",
              "1568                              NaN\n",
              "1569                              NaN\n",
              "1570                              NaN\n",
              "1571                              NaN\n",
              "Name: rw, Length: 1572, dtype: object"
            ]
          },
          "metadata": {
            "tags": []
          },
          "execution_count": 657
        }
      ]
    },
    {
      "cell_type": "code",
      "metadata": {
        "id": "iNrdHCiOJGhr"
      },
      "source": [
        "for i,x in enumerate(data['rw']):\n",
        "  print(i,x)\n",
        "  if data['rw'][i] is not np.nan:\n",
        "    data['rw'][i] = str(data['rw'][i])\n",
        "    data['rw'][i] = data['rw'][i].replace('\\n',' ')\n",
        "    data['rw'][i] = re.sub(\"[^0-9,]\", \" \", data['rw'][i])\n",
        "    data['rw'][i] = re.sub(\"\\d{4}\", '', data['rw'][i])\n",
        "    data['rw'][i] = re.sub(' +', ' ', data['rw'][i])\n",
        "    data['rw'][i] = data['rw'][i].replace(\" \", \"\")"
      ],
      "execution_count": null,
      "outputs": []
    },
    {
      "cell_type": "code",
      "metadata": {
        "colab": {
          "base_uri": "https://localhost:8080/"
        },
        "id": "TT2_ZGleJGkf",
        "outputId": "25c7d95e-f4a8-49ef-dda2-bd454d10545a"
      },
      "source": [
        "data['rw']"
      ],
      "execution_count": null,
      "outputs": [
        {
          "output_type": "execute_result",
          "data": {
            "text/plain": [
              "0                01,02,06,08\n",
              "1                01,02,07,08\n",
              "2                01,02,06,07\n",
              "3       02,03,04,05,06,07,08\n",
              "4                      07,09\n",
              "                ...         \n",
              "1567                     NaN\n",
              "1568                     NaN\n",
              "1569                     NaN\n",
              "1570                     NaN\n",
              "1571                     NaN\n",
              "Name: rw, Length: 1572, dtype: object"
            ]
          },
          "metadata": {
            "tags": []
          },
          "execution_count": 659
        }
      ]
    },
    {
      "cell_type": "code",
      "metadata": {
        "id": "1hzfLuqYKApI"
      },
      "source": [
        "for enum,x in enumerate(data['rw']):\n",
        "  tot=[]\n",
        "  print(enum, x)\n",
        "  if x is not np.nan:\n",
        "    for i in data['rw'][enum].split(','):\n",
        "      if '-' in i:\n",
        "        a = i.split('-')\n",
        "        for j in range(int(a[0]),int(a[1])+1):\n",
        "          tot.append(j)\n",
        "      elif i is not np.nan and i!='':\n",
        "        print(i)\n",
        "        tot.append(int(i))\n",
        "    data['rw'][enum] = tot"
      ],
      "execution_count": null,
      "outputs": []
    },
    {
      "cell_type": "code",
      "metadata": {
        "colab": {
          "base_uri": "https://localhost:8080/"
        },
        "id": "3DMFUW9HKYhD",
        "outputId": "6bab4a1a-577c-4970-9feb-7ceb3317f400"
      },
      "source": [
        "data['rw']"
      ],
      "execution_count": null,
      "outputs": [
        {
          "output_type": "execute_result",
          "data": {
            "text/plain": [
              "0                [1, 2, 6, 8]\n",
              "1                [1, 2, 7, 8]\n",
              "2                [1, 2, 6, 7]\n",
              "3       [2, 3, 4, 5, 6, 7, 8]\n",
              "4                      [7, 9]\n",
              "                ...          \n",
              "1567                      NaN\n",
              "1568                      NaN\n",
              "1569                      NaN\n",
              "1570                      NaN\n",
              "1571                      NaN\n",
              "Name: rw, Length: 1572, dtype: object"
            ]
          },
          "metadata": {
            "tags": []
          },
          "execution_count": 661
        }
      ]
    },
    {
      "cell_type": "code",
      "metadata": {
        "colab": {
          "base_uri": "https://localhost:8080/",
          "height": 689
        },
        "id": "i_6NicApKqn5",
        "outputId": "e8bb44a2-bfeb-448f-935b-b6b99b0a3628"
      },
      "source": [
        "data"
      ],
      "execution_count": null,
      "outputs": [
        {
          "output_type": "execute_result",
          "data": {
            "text/html": [
              "<div>\n",
              "<style scoped>\n",
              "    .dataframe tbody tr th:only-of-type {\n",
              "        vertical-align: middle;\n",
              "    }\n",
              "\n",
              "    .dataframe tbody tr th {\n",
              "        vertical-align: top;\n",
              "    }\n",
              "\n",
              "    .dataframe thead th {\n",
              "        text-align: right;\n",
              "    }\n",
              "</style>\n",
              "<table border=\"1\" class=\"dataframe\">\n",
              "  <thead>\n",
              "    <tr style=\"text-align: right;\">\n",
              "      <th></th>\n",
              "      <th>kota_administrasi</th>\n",
              "      <th>kecamatan</th>\n",
              "      <th>kelurahan</th>\n",
              "      <th>rw</th>\n",
              "      <th>jumlah_terdampak_rw</th>\n",
              "      <th>jumlah_terdampak_rt</th>\n",
              "      <th>jumlah_terdampak_kk</th>\n",
              "      <th>jumlah_terdampak_jiwa</th>\n",
              "      <th>ketinggian_air</th>\n",
              "      <th>lama_genangan</th>\n",
              "      <th>jumlah_meninggal</th>\n",
              "      <th>jumlah_hilang</th>\n",
              "      <th>jumlah_luka_berat</th>\n",
              "      <th>jumlah_luka_ringan</th>\n",
              "      <th>jumlah_pengungsi_tertinggi</th>\n",
              "      <th>jumlah_tempat_pengungsian</th>\n",
              "      <th>nilai_kerugian</th>\n",
              "      <th>bulan</th>\n",
              "      <th>tahun</th>\n",
              "      <th>tanggal</th>\n",
              "      <th>tanggal_awal_kejadian</th>\n",
              "      <th>tanggal_akhir_kejadian</th>\n",
              "      <th>durasi_banjir</th>\n",
              "    </tr>\n",
              "  </thead>\n",
              "  <tbody>\n",
              "    <tr>\n",
              "      <th>0</th>\n",
              "      <td>Jakarta Pusat</td>\n",
              "      <td>JOHAR BARU</td>\n",
              "      <td>JOHAR BARU</td>\n",
              "      <td>[1, 2, 6, 8]</td>\n",
              "      <td>4.0</td>\n",
              "      <td>4.0</td>\n",
              "      <td>35.0</td>\n",
              "      <td>140.0</td>\n",
              "      <td>10 s/d 30 cm</td>\n",
              "      <td>0.0</td>\n",
              "      <td>0.0</td>\n",
              "      <td>0.0</td>\n",
              "      <td>0.0</td>\n",
              "      <td>140.0</td>\n",
              "      <td>1.0</td>\n",
              "      <td>0.0</td>\n",
              "      <td>0.0</td>\n",
              "      <td>1</td>\n",
              "      <td>2020</td>\n",
              "      <td>[1]</td>\n",
              "      <td>2020-01-01 00:00:00.000000</td>\n",
              "      <td>2020-01-01 00:00:00.000000</td>\n",
              "      <td>1</td>\n",
              "    </tr>\n",
              "    <tr>\n",
              "      <th>1</th>\n",
              "      <td>Jakarta Pusat</td>\n",
              "      <td>KEMAYORAN</td>\n",
              "      <td>GUNUNG SAHARI SELATAN</td>\n",
              "      <td>[1, 2, 7, 8]</td>\n",
              "      <td>4.0</td>\n",
              "      <td>4.0</td>\n",
              "      <td>0.0</td>\n",
              "      <td>0.0</td>\n",
              "      <td>10 s/d 70 cm</td>\n",
              "      <td>0.0</td>\n",
              "      <td>0.0</td>\n",
              "      <td>0.0</td>\n",
              "      <td>0.0</td>\n",
              "      <td>0.0</td>\n",
              "      <td>0.0</td>\n",
              "      <td>0.0</td>\n",
              "      <td>0.0</td>\n",
              "      <td>1</td>\n",
              "      <td>2020</td>\n",
              "      <td>[1]</td>\n",
              "      <td>2020-01-01 00:00:00.000000</td>\n",
              "      <td>2020-01-01 00:00:00.000000</td>\n",
              "      <td>1</td>\n",
              "    </tr>\n",
              "    <tr>\n",
              "      <th>2</th>\n",
              "      <td>Jakarta Pusat</td>\n",
              "      <td>KEMAYORAN</td>\n",
              "      <td>SERDANG</td>\n",
              "      <td>[1, 2, 6, 7]</td>\n",
              "      <td>4.0</td>\n",
              "      <td>4.0</td>\n",
              "      <td>0.0</td>\n",
              "      <td>0.0</td>\n",
              "      <td>10 s/d 30 cm</td>\n",
              "      <td>1.0</td>\n",
              "      <td>0.0</td>\n",
              "      <td>0.0</td>\n",
              "      <td>0.0</td>\n",
              "      <td>0.0</td>\n",
              "      <td>0.0</td>\n",
              "      <td>0.0</td>\n",
              "      <td>0.0</td>\n",
              "      <td>1</td>\n",
              "      <td>2020</td>\n",
              "      <td>[1]</td>\n",
              "      <td>2020-01-01 00:00:00.000000</td>\n",
              "      <td>2020-01-01 00:00:00.000000</td>\n",
              "      <td>1</td>\n",
              "    </tr>\n",
              "    <tr>\n",
              "      <th>3</th>\n",
              "      <td>Jakarta Pusat</td>\n",
              "      <td>SAWAH BESAR</td>\n",
              "      <td>PASAR BARU</td>\n",
              "      <td>[2, 3, 4, 5, 6, 7, 8]</td>\n",
              "      <td>7.0</td>\n",
              "      <td>7.0</td>\n",
              "      <td>155.0</td>\n",
              "      <td>625.0</td>\n",
              "      <td>10 s/d 70 cm</td>\n",
              "      <td>0.0</td>\n",
              "      <td>0.0</td>\n",
              "      <td>0.0</td>\n",
              "      <td>0.0</td>\n",
              "      <td>625.0</td>\n",
              "      <td>5.0</td>\n",
              "      <td>0.0</td>\n",
              "      <td>0.0</td>\n",
              "      <td>1</td>\n",
              "      <td>2020</td>\n",
              "      <td>[1]</td>\n",
              "      <td>2020-01-01 00:00:00.000000</td>\n",
              "      <td>2020-01-01 00:00:00.000000</td>\n",
              "      <td>1</td>\n",
              "    </tr>\n",
              "    <tr>\n",
              "      <th>4</th>\n",
              "      <td>Jakarta Pusat</td>\n",
              "      <td>TANAH ABANG</td>\n",
              "      <td>BENDUNGAN HILIR</td>\n",
              "      <td>[7, 9]</td>\n",
              "      <td>2.0</td>\n",
              "      <td>2.0</td>\n",
              "      <td>52.0</td>\n",
              "      <td>195.0</td>\n",
              "      <td>31 s/d 70 cm</td>\n",
              "      <td>0.0</td>\n",
              "      <td>0.0</td>\n",
              "      <td>0.0</td>\n",
              "      <td>0.0</td>\n",
              "      <td>195.0</td>\n",
              "      <td>6.0</td>\n",
              "      <td>0.0</td>\n",
              "      <td>0.0</td>\n",
              "      <td>1</td>\n",
              "      <td>2020</td>\n",
              "      <td>[1]</td>\n",
              "      <td>2020-01-01 00:00:00.000000</td>\n",
              "      <td>2020-01-01 00:00:00.000000</td>\n",
              "      <td>1</td>\n",
              "    </tr>\n",
              "    <tr>\n",
              "      <th>...</th>\n",
              "      <td>...</td>\n",
              "      <td>...</td>\n",
              "      <td>...</td>\n",
              "      <td>...</td>\n",
              "      <td>...</td>\n",
              "      <td>...</td>\n",
              "      <td>...</td>\n",
              "      <td>...</td>\n",
              "      <td>...</td>\n",
              "      <td>...</td>\n",
              "      <td>...</td>\n",
              "      <td>...</td>\n",
              "      <td>...</td>\n",
              "      <td>...</td>\n",
              "      <td>...</td>\n",
              "      <td>...</td>\n",
              "      <td>...</td>\n",
              "      <td>...</td>\n",
              "      <td>...</td>\n",
              "      <td>...</td>\n",
              "      <td>...</td>\n",
              "      <td>...</td>\n",
              "      <td>...</td>\n",
              "    </tr>\n",
              "    <tr>\n",
              "      <th>1567</th>\n",
              "      <td>Jakarta Utara</td>\n",
              "      <td>CILINCING</td>\n",
              "      <td>SUKAPURA</td>\n",
              "      <td>NaN</td>\n",
              "      <td>1.0</td>\n",
              "      <td>0.0</td>\n",
              "      <td>0</td>\n",
              "      <td>0.0</td>\n",
              "      <td>40 - 50 cm</td>\n",
              "      <td>0.0</td>\n",
              "      <td>0.0</td>\n",
              "      <td>0.0</td>\n",
              "      <td>0.0</td>\n",
              "      <td>20.0</td>\n",
              "      <td>0.0</td>\n",
              "      <td>0.0</td>\n",
              "      <td>0.0</td>\n",
              "      <td>2</td>\n",
              "      <td>2017</td>\n",
              "      <td>[21]</td>\n",
              "      <td>2017-02-21 00:00:00.000000</td>\n",
              "      <td>2017-02-21 00:00:00.000000</td>\n",
              "      <td>1</td>\n",
              "    </tr>\n",
              "    <tr>\n",
              "      <th>1568</th>\n",
              "      <td>Jakarta Utara</td>\n",
              "      <td>KOJA</td>\n",
              "      <td>TUGU SELATAN</td>\n",
              "      <td>NaN</td>\n",
              "      <td>3.0</td>\n",
              "      <td>0.0</td>\n",
              "      <td>0</td>\n",
              "      <td>0.0</td>\n",
              "      <td>10 - 20 cm</td>\n",
              "      <td>1.0</td>\n",
              "      <td>0.0</td>\n",
              "      <td>0.0</td>\n",
              "      <td>0.0</td>\n",
              "      <td>0.0</td>\n",
              "      <td>0.0</td>\n",
              "      <td>0.0</td>\n",
              "      <td>0.0</td>\n",
              "      <td>2</td>\n",
              "      <td>2017</td>\n",
              "      <td>[16, 21, 22]</td>\n",
              "      <td>2017-02-16 00:00:00.000000</td>\n",
              "      <td>2017-02-22 00:00:00.000000</td>\n",
              "      <td>3</td>\n",
              "    </tr>\n",
              "    <tr>\n",
              "      <th>1569</th>\n",
              "      <td>Jakarta Utara</td>\n",
              "      <td>PENJARINGAN</td>\n",
              "      <td>PEJAGALAN</td>\n",
              "      <td>NaN</td>\n",
              "      <td>1.0</td>\n",
              "      <td>0.0</td>\n",
              "      <td>0</td>\n",
              "      <td>0.0</td>\n",
              "      <td>30 cm</td>\n",
              "      <td>0.0</td>\n",
              "      <td>0.0</td>\n",
              "      <td>0.0</td>\n",
              "      <td>0.0</td>\n",
              "      <td>0.0</td>\n",
              "      <td>0.0</td>\n",
              "      <td>0.0</td>\n",
              "      <td>0.0</td>\n",
              "      <td>2</td>\n",
              "      <td>2017</td>\n",
              "      <td>[19]</td>\n",
              "      <td>2017-02-19 00:00:00.000000</td>\n",
              "      <td>2017-02-19 00:00:00.000000</td>\n",
              "      <td>1</td>\n",
              "    </tr>\n",
              "    <tr>\n",
              "      <th>1570</th>\n",
              "      <td>Jakarta Utara</td>\n",
              "      <td>PENJARINGAN</td>\n",
              "      <td>PENJARINGAN</td>\n",
              "      <td>NaN</td>\n",
              "      <td>1.0</td>\n",
              "      <td>0.0</td>\n",
              "      <td>0</td>\n",
              "      <td>0.0</td>\n",
              "      <td>30 - 40 cm</td>\n",
              "      <td>0.0</td>\n",
              "      <td>0.0</td>\n",
              "      <td>0.0</td>\n",
              "      <td>0.0</td>\n",
              "      <td>0.0</td>\n",
              "      <td>0.0</td>\n",
              "      <td>0.0</td>\n",
              "      <td>0.0</td>\n",
              "      <td>2</td>\n",
              "      <td>2017</td>\n",
              "      <td>[21, 22]</td>\n",
              "      <td>2017-02-21 00:00:00.000000</td>\n",
              "      <td>2017-02-22 00:00:00.000000</td>\n",
              "      <td>2</td>\n",
              "    </tr>\n",
              "    <tr>\n",
              "      <th>1571</th>\n",
              "      <td>Jakarta Utara</td>\n",
              "      <td>TANJUNG PRIOK</td>\n",
              "      <td>TANJUNG PRIOK</td>\n",
              "      <td>NaN</td>\n",
              "      <td>4.0</td>\n",
              "      <td>0.0</td>\n",
              "      <td>0</td>\n",
              "      <td>0.0</td>\n",
              "      <td>30 cm</td>\n",
              "      <td>0.0</td>\n",
              "      <td>0.0</td>\n",
              "      <td>0.0</td>\n",
              "      <td>0.0</td>\n",
              "      <td>0.0</td>\n",
              "      <td>0.0</td>\n",
              "      <td>0.0</td>\n",
              "      <td>0.0</td>\n",
              "      <td>2</td>\n",
              "      <td>2017</td>\n",
              "      <td>[17]</td>\n",
              "      <td>2017-02-17 00:00:00.000000</td>\n",
              "      <td>2017-02-17 00:00:00.000000</td>\n",
              "      <td>1</td>\n",
              "    </tr>\n",
              "  </tbody>\n",
              "</table>\n",
              "<p>1572 rows × 23 columns</p>\n",
              "</div>"
            ],
            "text/plain": [
              "     kota_administrasi  ... durasi_banjir\n",
              "0        Jakarta Pusat  ...             1\n",
              "1        Jakarta Pusat  ...             1\n",
              "2        Jakarta Pusat  ...             1\n",
              "3        Jakarta Pusat  ...             1\n",
              "4        Jakarta Pusat  ...             1\n",
              "...                ...  ...           ...\n",
              "1567     Jakarta Utara  ...             1\n",
              "1568     Jakarta Utara  ...             3\n",
              "1569     Jakarta Utara  ...             1\n",
              "1570     Jakarta Utara  ...             2\n",
              "1571     Jakarta Utara  ...             1\n",
              "\n",
              "[1572 rows x 23 columns]"
            ]
          },
          "metadata": {
            "tags": []
          },
          "execution_count": 662
        }
      ]
    },
    {
      "cell_type": "code",
      "metadata": {
        "id": "m8II6pRLKryO"
      },
      "source": [
        "data.to_csv('/content/drive/MyDrive/GenGigih/JakartaFloods/alldata.csv', index=False)\n",
        "print('done')"
      ],
      "execution_count": null,
      "outputs": []
    },
    {
      "cell_type": "code",
      "metadata": {
        "id": "riS3NRckPx-n"
      },
      "source": [
        "def clean_height1(unclean_str):\n",
        "    # Remove non-numerical characters\n",
        "    clean = unclean_str.replace('s/d', '')\\\n",
        "                       .replace('s.d.', '')\\\n",
        "                       .replace('-', ' ')\\\n",
        "                       .replace('cm', '')\n",
        "    # Remove extra whitespace\n",
        "    clean = ' '.join(clean.split())\n",
        "    # Split clean into list\n",
        "    clean = clean.split(' ')\n",
        "    min_height = int(clean[0])\n",
        "    max_height = int(clean[1])\n",
        "    avg_height = (min_height + max_height) / 2.0\n",
        "    return {'min_ketinggian_air': min_height, 'max_ketinggian_air': max_height, 'mean_ketinggian_air': avg_height}"
      ],
      "execution_count": null,
      "outputs": []
    },
    {
      "cell_type": "code",
      "metadata": {
        "id": "dSGkTyEMPyA9"
      },
      "source": [
        "def clean_height2(unclean_str):\n",
        "    clean = unclean_str.replace('cm', '')\n",
        "    clean = clean.strip()\n",
        "    avg_height = int(clean)\n",
        "    return {'min_ketinggian_air': avg_height, 'max_ketinggian_air': avg_height, 'mean_ketinggian_air': avg_height}"
      ],
      "execution_count": null,
      "outputs": []
    },
    {
      "cell_type": "code",
      "metadata": {
        "id": "QMzfgZf6PyDV"
      },
      "source": [
        "def clean_height(unclean_str):\n",
        "    unclean_str = unclean_str.lower()\n",
        "    if (unclean_str.find('s.d.') != -1 or unclean_str.find('s/d') != -1 or unclean_str.find('-') != -1):\n",
        "        return clean_height1(unclean_str)\n",
        "    else:\n",
        "        return clean_height2(unclean_str)"
      ],
      "execution_count": null,
      "outputs": []
    },
    {
      "cell_type": "code",
      "metadata": {
        "id": "AcDI3Zg_PyFo"
      },
      "source": [
        "df2 = data.apply(lambda row: clean_height(row['ketinggian_air']), axis='columns', result_type='expand')\n",
        "data = pd.concat([data, df2], axis='columns')"
      ],
      "execution_count": null,
      "outputs": []
    },
    {
      "cell_type": "code",
      "metadata": {
        "id": "Y0TPfv8_Qe5m"
      },
      "source": [
        "data.to_csv('/content/drive/MyDrive/GenGigih/JakartaFloods/alldata.csv', index=False)\n",
        "print('done')"
      ],
      "execution_count": null,
      "outputs": []
    }
  ]
}